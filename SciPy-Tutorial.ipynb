{
 "cells": [
  {
   "cell_type": "markdown",
   "metadata": {},
   "source": [
    "# SciPy Tutorial\n",
    "\n",
    "> This Jupyter Notebook was created to study the basics arithmetics algorithms of SciPy library and was based in the tutorial available in [SciPy.org](https://docs.scipy.org/doc/scipy/reference/tutorial/index.html) website.\n",
    "> \n",
    ">* **Author:** Gustavo G. Ribeiro\n",
    ">* **Date:** 01/08/2017\n",
    "\n",
    "\n",
    "---------------------------------"
   ]
  },
  {
   "cell_type": "code",
   "execution_count": 4,
   "metadata": {
    "collapsed": true
   },
   "outputs": [],
   "source": [
    "import numpy as np\n",
    "import matplotlib as mpl\n",
    "import matplotlib.pyplot as plt"
   ]
  },
  {
   "cell_type": "markdown",
   "metadata": {},
   "source": [
    "-----------------\n",
    "### Index tricks\n",
    "* Some functions from SciPy are actually in NumPy scope and it is better call those functions from this scope.\n",
    "    \n",
    "To start this tutorial is important to understand some tricks, for instance the slicing functionality in the array construction process.\n",
    "    \n",
    "During the construction of an array from a concatenation of others arrays this operation can be performed like:"
   ]
  },
  {
   "cell_type": "code",
   "execution_count": 8,
   "metadata": {},
   "outputs": [
    {
     "name": "stdout",
     "output_type": "stream",
     "text": [
      "[ 3.          0.          0.          0.          0.          0.         -1.\n",
      " -0.77777778 -0.55555556 -0.33333333 -0.11111111  0.11111111  0.33333333\n",
      "  0.55555556  0.77777778]\n"
     ]
    }
   ],
   "source": [
    "a = np.concatenate(([3],[0]*5,np.arange(-1.,1.,2/9.0)))\n",
    "print(a)"
   ]
  },
  {
   "cell_type": "markdown",
   "metadata": {},
   "source": [
    "However, using the slincing functionality(start:stop:step) with `r_` command this construction can be performed in a ease way"
   ]
  },
  {
   "cell_type": "code",
   "execution_count": 9,
   "metadata": {},
   "outputs": [
    {
     "name": "stdout",
     "output_type": "stream",
     "text": [
      "[ 3.          0.          0.          0.          0.          0.         -1.\n",
      " -0.77777778 -0.55555556 -0.33333333 -0.11111111  0.11111111  0.33333333\n",
      "  0.55555556  0.77777778  1.        ]\n"
     ]
    }
   ],
   "source": [
    "a = np.r_[3,[0]*5,-1:1:10j]\n",
    "print(a)"
   ]
  },
  {
   "cell_type": "markdown",
   "metadata": {},
   "source": [
    "It is important to note that when the step especification in slicing functinality uses a complex number (`10j`) the real number before '`j`' is interpreted as a number of points to produce in the range.\n",
    "\n",
    "Another special command that concatenates, but a 2D arrays, is `c_`. In the folowing example this command is used to create a 3 columns 2D array."
   ]
  },
  {
   "cell_type": "code",
   "execution_count": 10,
   "metadata": {},
   "outputs": [
    {
     "name": "stdout",
     "output_type": "stream",
     "text": [
      "[[ 3.    0.    0.5 ]\n",
      " [ 3.    0.    1.25]\n",
      " [ 3.    0.    2.  ]\n",
      " [ 3.    0.    2.75]\n",
      " [ 3.    0.    3.5 ]]\n"
     ]
    }
   ],
   "source": [
    "b = np.c_[[3]*5,[0]*5,0.5:3.5:5j]\n",
    "print(b)"
   ]
  },
  {
   "cell_type": "markdown",
   "metadata": {},
   "source": [
    "# To be continued!!"
   ]
  }
 ],
 "metadata": {
  "kernelspec": {
   "display_name": "Python 3",
   "language": "python",
   "name": "python3"
  },
  "language_info": {
   "codemirror_mode": {
    "name": "ipython",
    "version": 3
   },
   "file_extension": ".py",
   "mimetype": "text/x-python",
   "name": "python",
   "nbconvert_exporter": "python",
   "pygments_lexer": "ipython3",
   "version": "3.6.2"
  },
  "latex_envs": {
   "LaTeX_envs_menu_present": true,
   "autocomplete": true,
   "bibliofile": "biblio.bib",
   "cite_by": "apalike",
   "current_citInitial": 1,
   "eqLabelWithNumbers": true,
   "eqNumInitial": 1,
   "hotkeys": {
    "equation": "Ctrl-E",
    "itemize": "Ctrl-I"
   },
   "labels_anchors": false,
   "latex_user_defs": false,
   "report_style_numbering": false,
   "user_envs_cfg": false
  }
 },
 "nbformat": 4,
 "nbformat_minor": 2
}
