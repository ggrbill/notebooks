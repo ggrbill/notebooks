{
 "cells": [
  {
   "cell_type": "markdown",
   "metadata": {},
   "source": [
    "## First Jupyter Notebook\n",
    "Used to do some tests."
   ]
  },
  {
   "cell_type": "code",
   "execution_count": 1,
   "metadata": {},
   "outputs": [
    {
     "name": "stdout",
     "output_type": "stream",
     "text": [
      "hello world\n"
     ]
    }
   ],
   "source": [
    "print('hello world')"
   ]
  },
  {
   "cell_type": "markdown",
   "metadata": {},
   "source": [
    "### Markdown first contact\n",
    "\n",
    "# Title \n",
    "\n",
    "Text, text \n",
    "\n",
    "Latex inline equation $$ \\int x dx $$."
   ]
  },
  {
   "cell_type": "code",
   "execution_count": 2,
   "metadata": {
    "collapsed": true
   },
   "outputs": [],
   "source": [
    "def foo(): # defining a function\n",
    "    return 1"
   ]
  },
  {
   "cell_type": "code",
   "execution_count": 3,
   "metadata": {},
   "outputs": [
    {
     "data": {
      "text/plain": [
       "1"
      ]
     },
     "execution_count": 3,
     "metadata": {},
     "output_type": "execute_result"
    }
   ],
   "source": [
    "foo()"
   ]
  },
  {
   "cell_type": "markdown",
   "metadata": {},
   "source": [
    "### Markdown Tests\n",
    "*Out of blockquote*\n",
    "> _This is a blockquote_\n",
    ">\n",
    "> this is the second paragraph in the blockquote\n",
    ">\n",
    "> ## this is an H2 in a `blockquote`\n",
    "\n",
    "* Primeiro\n",
    "* Segundo\n",
    "* Terceiro\n",
    "\n",
    "1. Eu\n",
    "2. Tu\n",
    "3. Ele\n",
    "\n",
    "\n",
    "Clique para acessar o site da [ESSS][1] ou o do [SINMEC][2]\n",
    "\n",
    "[1]: https://www.esss.com.br/\n",
    "[2]: http://www.sinmec.ufsc.br/\n",
    "\n",
    "Código:\n",
    "\n",
    "```c++\n",
    "if( isOpen ){\n",
    "    return true;\n",
    "else{\n",
    "    return false;\n",
    "}\n",
    "```\n",
    "    \n",
    "Ok!\n",
    "\n",
    "\n",
    "_Combinando **itálico** e outras formatações_       \n"
   ]
  },
  {
   "cell_type": "markdown",
   "metadata": {},
   "source": [
    "Using latex extension to set an equation in latex format:\n",
    "\n",
    "\\begin{equation} \\label{eq:Heat}\n",
    "\\dot{Q} = \\dot{m} \\text{ }  c_p \\Delta t\n",
    "\\end{equation}\n",
    "\n",
    "After that you can refer to the equation like this \\eqref{eq:Heat} and also add a publication reference \\cite{Maliska2004}."
   ]
  },
  {
   "cell_type": "code",
   "execution_count": 4,
   "metadata": {},
   "outputs": [
    {
     "name": "stdout",
     "output_type": "stream",
     "text": [
      "300.0 J/s\n"
     ]
    }
   ],
   "source": [
    "m = 10.0 #kg/s\n",
    "c_p = 1.0 #J/kg.K -> Água\n",
    "D_t = 30 #K\n",
    "Q = m*c_p*D_t\n",
    "print(Q,\"J/s\")"
   ]
  },
  {
   "cell_type": "markdown",
   "metadata": {
    "collapsed": true
   },
   "source": [
    "Another publication reference \\cite{Bejan2004}"
   ]
  },
  {
   "cell_type": "markdown",
   "metadata": {},
   "source": [
    "# References\n",
    "\n",
    "[<a id=\"cit-Maliska2004\" href=\"#call-Maliska2004\">1</a>] Clovis Raimundo Maliska, ``_Transferência de Calor e Mecânica dos Fluidos Computacional_'',  2004.\n",
    "\n",
    "[<a id=\"cit-Bejan2004\" href=\"#call-Bejan2004\">2</a>] Adrian Bejan, ``_Convection Heat Transfer_'',  2004.\n",
    "\n"
   ]
  },
  {
   "cell_type": "code",
   "execution_count": null,
   "metadata": {
    "collapsed": true
   },
   "outputs": [],
   "source": []
  }
 ],
 "metadata": {
  "kernelspec": {
   "display_name": "Python 3",
   "language": "python",
   "name": "python3"
  },
  "language_info": {
   "codemirror_mode": {
    "name": "ipython",
    "version": 3
   },
   "file_extension": ".py",
   "mimetype": "text/x-python",
   "name": "python",
   "nbconvert_exporter": "python",
   "pygments_lexer": "ipython3",
   "version": "3.6.2"
  },
  "latex_envs": {
   "LaTeX_envs_menu_present": true,
   "autocomplete": true,
   "bibliofile": "biblio.bib",
   "cite_by": "number",
   "current_citInitial": 1,
   "eqLabelWithNumbers": true,
   "eqNumInitial": 1,
   "hotkeys": {
    "equation": "Ctrl-E",
    "itemize": "Ctrl-I"
   },
   "labels_anchors": false,
   "latex_user_defs": false,
   "report_style_numbering": false,
   "user_envs_cfg": false
  }
 },
 "nbformat": 4,
 "nbformat_minor": 2
}
