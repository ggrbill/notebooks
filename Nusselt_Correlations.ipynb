{
 "cells": [
  {
   "cell_type": "markdown",
   "metadata": {},
   "source": [
    "### Nusselt number for laminar flow \n",
    "\n",
    "#### (boundary condition with constant temperature)\n",
    "\n",
    "\\begin{equation} \n",
    "Nu=3.66\n",
    "\\end{equation}"
   ]
  },
  {
   "cell_type": "markdown",
   "metadata": {
    "collapsed": true
   },
   "source": [
    "### Dittus & Boelter (1930)\n",
    "\n",
    "This correlation is an explicit function for turbulent flow given by:\n",
    "\n",
    "\\begin{equation} \n",
    "Nu=0.023Re_D^{4/5}Pr^{n_{ic}}\n",
    "\\end{equation}\n",
    "\n",
    "where $n_{ic}$ is $0.3$ for the fluid being cooled or $0.4$ for the fluid being heated\n",
    "\n",
    "and it is valid for\n",
    "\\begin{equation} \n",
    "0.6 \\leq Pr \\leq 160 \\\\\n",
    "Re_D > 10000 \\\\\n",
    "\\frac{L}{D} > 10\n",
    "\\end{equation}\n",
    "\n"
   ]
  },
  {
   "cell_type": "code",
   "execution_count": 15,
   "metadata": {
    "collapsed": true
   },
   "outputs": [],
   "source": [
    "def calculate_nusselt_number(Re,Pr,n):\n",
    "    return 0.023 * (Re ** (4/5)) * (Pr ** n)    "
   ]
  },
  {
   "cell_type": "code",
   "execution_count": 16,
   "metadata": {
    "collapsed": true
   },
   "outputs": [],
   "source": [
    "import numpy as np"
   ]
  },
  {
   "cell_type": "code",
   "execution_count": 38,
   "metadata": {},
   "outputs": [
    {
     "data": {
      "text/plain": [
       "(0.70876, array([10000, 10100, 10200, 10300, 10400, 10500, 10600, 10700, 10800,\n",
       "        10900, 11000, 11100, 11200, 11300, 11400, 11500, 11600, 11700,\n",
       "        11800, 11900, 12000, 12100, 12200, 12300, 12400, 12500, 12600,\n",
       "        12700, 12800, 12900, 13000, 13100, 13200, 13300, 13400, 13500,\n",
       "        13600, 13700, 13800, 13900, 14000, 14100, 14200, 14300, 14400,\n",
       "        14500, 14600, 14700, 14800, 14900, 15000, 15100, 15200, 15300,\n",
       "        15400, 15500, 15600, 15700, 15800, 15900, 16000, 16100, 16200,\n",
       "        16300, 16400, 16500, 16600, 16700, 16800, 16900, 17000, 17100,\n",
       "        17200, 17300, 17400, 17500, 17600, 17700, 17800, 17900, 18000,\n",
       "        18100, 18200, 18300, 18400, 18500, 18600, 18700, 18800, 18900,\n",
       "        19000, 19100, 19200, 19300, 19400, 19500, 19600, 19700, 19800,\n",
       "        19900, 20000]))"
      ]
     },
     "execution_count": 38,
     "metadata": {},
     "output_type": "execute_result"
    }
   ],
   "source": [
    "Nu_laminar = 3.66\n",
    "Pr_air_25degC = 0.70876\n",
    "Re = np.array(range(10000,20100,100))\n",
    "Pr_air_25degC, Re"
   ]
  },
  {
   "cell_type": "code",
   "execution_count": 39,
   "metadata": {},
   "outputs": [
    {
     "data": {
      "text/plain": [
       "array([ 32.87589584,  33.13864105,  33.40086647,  33.66257822,\n",
       "        33.92378228,  34.1844845 ,  34.4446906 ,  34.70440621,\n",
       "        34.96363681,  35.22238779,  35.48066442,  35.73847188,\n",
       "        35.99581524,  36.25269946,  36.50912941,  36.76510987,\n",
       "        37.02064553,  37.27574098,  37.53040074,  37.78462923,\n",
       "        38.0384308 ,  38.29180972,  38.54477016,  38.79731626,\n",
       "        39.04945204,  39.30118147,  39.55250845,  39.80343681,\n",
       "        40.05397031,  40.30411266,  40.55386748,  40.80323836,\n",
       "        41.05222881,  41.30084228,  41.54908217,  41.79695183,\n",
       "        42.04445454,  42.29159354,  42.53837201,  42.78479309,\n",
       "        43.03085986,  43.27657535,  43.52194255,  43.76696441,\n",
       "        44.01164381,  44.25598362,  44.49998663,  44.74365562,\n",
       "        44.98699331,  45.23000238,  45.47268548,  45.71504522,\n",
       "        45.95708416,  46.19880484,  46.44020974,  46.68130134,\n",
       "        46.92208204,  47.16255425,  47.40272032,  47.64258257,\n",
       "        47.88214329,  48.12140475,  48.36036917,  48.59903875,\n",
       "        48.83741567,  49.07550205,  49.31330002,  49.55081166,\n",
       "        49.78803902,  50.02498413,  50.261649  ,  50.4980356 ,\n",
       "        50.73414589,  50.96998178,  51.20554519,  51.44083799,\n",
       "        51.67586204,  51.91061916,  52.14511117,  52.37933985,\n",
       "        52.61330697,  52.84701427,  53.08046347,  53.31365627,\n",
       "        53.54659436,  53.77927938,  54.01171299,  54.24389681,\n",
       "        54.47583243,  54.70752144,  54.9389654 ,  55.17016587,\n",
       "        55.40112437,  55.63184241,  55.86232148,  56.09256307,\n",
       "        56.32256864,  56.55233962,  56.78187745,  57.01118354,  57.24025929])"
      ]
     },
     "execution_count": 39,
     "metadata": {},
     "output_type": "execute_result"
    }
   ],
   "source": [
    "Nu_cooling = calculate_nusselt_number(Re,Pr_air_25degC,0.3) # Cooling\n",
    "Nu_cooling"
   ]
  },
  {
   "cell_type": "code",
   "execution_count": 40,
   "metadata": {},
   "outputs": [
    {
     "data": {
      "text/plain": [
       "array([ 31.76343891,  32.01729333,  32.27064555,  32.52350148,\n",
       "        32.77586689,  33.02774745,  33.27914868,  33.53007601,\n",
       "        33.78053475,  34.03053009,  34.28006715,  34.5291509 ,\n",
       "        34.77778625,  35.025978  ,  35.27373086,  35.52104943,\n",
       "        35.76793826,  36.01440177,  36.26044434,  36.50607023,\n",
       "        36.75128364,  36.9960887 ,  37.24048946,  37.48448988,\n",
       "        37.72809387,  37.97130526,  38.21412782,  38.45656525,\n",
       "        38.69862118,  38.94029919,  39.1816028 ,  39.42253545,\n",
       "        39.66310054,  39.9033014 ,  40.14314134,  40.38262356,\n",
       "        40.62175126,  40.86052755,  41.09895552,  41.33703818,\n",
       "        41.57477853,  41.81217948,  42.04924393,  42.28597472,\n",
       "        42.52237464,  42.75844646,  42.99419288,  43.22961658,\n",
       "        43.46472019,  43.6995063 ,  43.93397748,  44.16813623,\n",
       "        44.40198504,  44.63552635,  44.86876258,  45.1016961 ,\n",
       "        45.33432925,  45.56666435,  45.79870366,  46.03044943,\n",
       "        46.26190388,  46.49306919,  46.72394752,  46.95454098,\n",
       "        47.18485168,  47.41488168,  47.64463303,  47.87410773,\n",
       "        48.10330777,  48.33223512,  48.5608917 ,  48.78927944,\n",
       "        49.01740021,  49.24525587,  49.47284827,  49.70017921,\n",
       "        49.9272505 ,  50.15406389,  50.38062115,  50.60692398,\n",
       "        50.83297411,  51.0587732 ,  51.28432293,  51.50962493,\n",
       "        51.73468084,  51.95949226,  52.18406076,  52.40838792,\n",
       "        52.63247529,  52.85632439,  53.07993674,  53.30331382,\n",
       "        53.52645713,  53.74936812,  53.97204823,  54.19449889,\n",
       "        54.41672151,  54.63871748,  54.8604882 ,  55.08203501,  55.30335928])"
      ]
     },
     "execution_count": 40,
     "metadata": {},
     "output_type": "execute_result"
    }
   ],
   "source": [
    "Nu_heating = calculate_nusselt_number(Re,Pr_air_25degC,0.4) # heating\n",
    "Nu_heating"
   ]
  },
  {
   "cell_type": "code",
   "execution_count": 41,
   "metadata": {
    "collapsed": true
   },
   "outputs": [],
   "source": [
    "import matplotlib.pyplot as plt\n",
    "%matplotlib inline  "
   ]
  },
  {
   "cell_type": "code",
   "execution_count": 45,
   "metadata": {},
   "outputs": [
    {
     "data": {
      "image/png": "[encoded data removed]",
      "text/plain": [
       "<matplotlib.figure.Figure at 0x1ccdc0d54a8>"
      ]
     },
     "metadata": {},
     "output_type": "display_data"
    }
   ],
   "source": [
    "plt.plot(Re, Nu_cooling)\n",
    "plt.title('Dittus-Boelter Correlation')\n",
    "plt.show()"
   ]
  },
  {
   "cell_type": "code",
   "execution_count": 46,
   "metadata": {},
   "outputs": [
    {
     "data": {
      "image/png": "[encoded data removed]",
      "text/plain": [
       "<matplotlib.figure.Figure at 0x1ccdc17e710>"
      ]
     },
     "metadata": {},
     "output_type": "display_data"
    }
   ],
   "source": [
    "plt.plot(Re, Nu_heating)\n",
    "plt.title('Dittus-Boelter Correlation')\n",
    "plt.show()"
   ]
  },
  {
   "cell_type": "code",
   "execution_count": null,
   "metadata": {
    "collapsed": true
   },
   "outputs": [],
   "source": []
  }
 ],
 "metadata": {
  "kernelspec": {
   "display_name": "Python 3",
   "language": "python",
   "name": "python3"
  },
  "language_info": {
   "codemirror_mode": {
    "name": "ipython",
    "version": 3
   },
   "file_extension": ".py",
   "mimetype": "text/x-python",
   "name": "python",
   "nbconvert_exporter": "python",
   "pygments_lexer": "ipython3",
   "version": "3.6.2"
  },
  "latex_envs": {
   "LaTeX_envs_menu_present": true,
   "autocomplete": true,
   "bibliofile": "biblio.bib",
   "cite_by": "apalike",
   "current_citInitial": 1,
   "eqLabelWithNumbers": true,
   "eqNumInitial": 1,
   "hotkeys": {
    "equation": "Ctrl-E",
    "itemize": "Ctrl-I"
   },
   "labels_anchors": false,
   "latex_user_defs": false,
   "report_style_numbering": false,
   "user_envs_cfg": false
  }
 },
 "nbformat": 4,
 "nbformat_minor": 2
}
